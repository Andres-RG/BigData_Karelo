{
 "cells": [
  {
   "cell_type": "code",
   "execution_count": 61,
   "metadata": {},
   "outputs": [
    {
     "name": "stdout",
     "output_type": "stream",
     "text": [
      "0    21\n",
      "1    19\n",
      "2    20\n",
      "Name: Edad, dtype: int64\n",
      "Maximo valor 21\n",
      "Valor medio 0    21\n",
      "1    19\n",
      "2    20\n",
      "Name: Edad, dtype: int64\n"
     ]
    }
   ],
   "source": [
    "import pandas as pd \n",
    "\n",
    "datos = {\"Nombre\": [\"Rodrigo\",\"Viridiana\", \"Paulino\"],\n",
    "         \"Edad\": [21,19,20],\n",
    "         \"Estado civil\": [\"Soltero\", \"Viuda\", \"Soltero\"]}\n",
    "\n",
    "df = pd.DataFrame(datos)\n",
    "df\n",
    "\n",
    "A= df[\"Edad\"]\n",
    "\n",
    "print(A)\n",
    "type(A)\n",
    "\n",
    "##Puedes declarar series\n",
    "\n",
    "Colonia = pd.Series([\"Candiles\",\"Juriquilla\", \"Juriquilla\"])\n",
    "Colonia\n",
    "\n",
    "## Valor maximo de un data frame \n",
    "print(\"Maximo valor\", A.max())\n",
    "print(\"Valor medio\", A)\n",
    "\n",
    "## Cada columna es una serie ##"
   ]
  },
  {
   "attachments": {},
   "cell_type": "markdown",
   "metadata": {},
   "source": [
    "Lectura de datos    "
   ]
  },
  {
   "cell_type": "code",
   "execution_count": 62,
   "metadata": {},
   "outputs": [
    {
     "data": {
      "text/plain": [
       "1    70\n",
       "0    69\n",
       "Name: Survived, dtype: int64"
      ]
     },
     "execution_count": 62,
     "metadata": {},
     "output_type": "execute_result"
    }
   ],
   "source": [
    "import pandas as pd\n",
    "titanic = pd.read_csv(\"titanic.csv\")\n",
    "\n",
    "titanic.head(5)\n",
    "#titanic.tail()\n",
    "#titanic.dtypes\n",
    "\n",
    "#Guardar con otra extesion \n",
    "\n",
    "#titanic.to_excel(\"titanic.xlsx\", sheet_name=\"pasajeros\", index=False)\n",
    "\n",
    "\n",
    "## Seleccionar subconjuntos\n",
    "\n",
    "edad = titanic[[\"Sex\", \"Age\"]]\n",
    "edad.shape \n",
    "\n",
    "\n",
    "\n",
    "menores = titanic.loc[titanic[\"Age\"]<19, \"Survived\"]\n",
    "menores.value_counts()\n",
    "\n",
    "#clase3 = titanic[titanic[\"Pclass\"].isin([3])]\n",
    "#clase3\n",
    "# \n",
    "\n",
    "\n"
   ]
  },
  {
   "cell_type": "code",
   "execution_count": 72,
   "metadata": {},
   "outputs": [
    {
     "data": {
      "text/plain": [
       "3.0"
      ]
     },
     "execution_count": 72,
     "metadata": {},
     "output_type": "execute_result"
    }
   ],
   "source": [
    "import pandas as pd\n",
    "#Media\n",
    "sm = pd.Series([1,1,1,1,1,2,2,2,2,2,2,2,2,2,3,3,3,3,3,3,3,3,3,3,4,4,4,4,4,4,5,5,5,5,5,6,6,6,6,7,7,8,17,23,45,89])\n",
    "sm.mean()\n",
    "sm.median()"
   ]
  }
 ],
 "metadata": {
  "kernelspec": {
   "display_name": "Python 3",
   "language": "python",
   "name": "python3"
  },
  "language_info": {
   "codemirror_mode": {
    "name": "ipython",
    "version": 3
   },
   "file_extension": ".py",
   "mimetype": "text/x-python",
   "name": "python",
   "nbconvert_exporter": "python",
   "pygments_lexer": "ipython3",
   "version": "3.11.2"
  },
  "orig_nbformat": 4,
  "vscode": {
   "interpreter": {
    "hash": "d73e1b32243897a9a2d309f53635f299b27651e305eeebfbb668dc739aac167f"
   }
  }
 },
 "nbformat": 4,
 "nbformat_minor": 2
}
