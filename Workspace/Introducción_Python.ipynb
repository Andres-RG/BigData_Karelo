{
 "cells": [
  {
   "cell_type": "markdown",
   "metadata": {},
   "source": [
    "## Crear entorno de Python"
   ]
  },
  {
   "cell_type": "markdown",
   "metadata": {},
   "source": [
    "\n",
    "Descargar Python: \n",
    "https://www.python.org/\n",
    "\n",
    "Dirigirse al área/Dirección de trabajo  \n",
    "\n",
    "Crer Entorno: python -m venv Nombre_Entorno\n",
    "\n",
    "\n",
    "Ejecutar entorno en terminal: \n",
    "- En Windows, ejecuta: Nombre_Entorno\\Scripts\\activate\n",
    "- En Unix o MacOS, ejecuta: source Nombre_Entorno/bin/activate\n",
    "\n",
    "Para salir utiliza el comando deativate\n",
    "\n",
    "----------------------------------------------------------------------------------------------------\n",
    "\n"
   ]
  },
  {
   "cell_type": "markdown",
   "metadata": {},
   "source": [
    "## Importar librerias "
   ]
  },
  {
   "cell_type": "code",
   "execution_count": 15,
   "metadata": {},
   "outputs": [],
   "source": [
    "import numpy as np\n",
    "import pandas as pd\n"
   ]
  },
  {
   "cell_type": "markdown",
   "metadata": {},
   "source": [
    "Asignación de variables"
   ]
  },
  {
   "cell_type": "code",
   "execution_count": null,
   "metadata": {},
   "outputs": [],
   "source": [
    "## Numericas\n",
    "var1 = 10\n",
    "var2 = 10.10 \n",
    "## Caracter \n",
    "var3 = \"10\"\n",
    "# Booleanas\n",
    "var4 = True\n",
    "#####################\n",
    "\n",
    "vector =  [1,2,3,4,5,6]\n",
    "matriz = [[1,2,3],[4,5,6],[7,8,9]]\n",
    "print( var1, \"\\n\", var2 , \"\\n\", var3, \"\\n\", vector, \"\\n\", matriz)\n",
    "\n",
    "print(type(var1), type(var2), type(var3), type(var4), type(vector), type(matriz))"
   ]
  },
  {
   "cell_type": "markdown",
   "metadata": {},
   "source": [
    "### Operaciones Basicas"
   ]
  },
  {
   "cell_type": "code",
   "execution_count": null,
   "metadata": {},
   "outputs": [],
   "source": [
    "sum = var1 + var2\n",
    "mult = var2 * 5 \n",
    "div = var1 / var2 \n",
    "concatenar = var3 + var3\n",
    "exp = var1 ** 2\n",
    "suma_Booleana = True + False\n",
    "\n",
    "print(sum, \"\\n\", mult, \"\\n\", div, \"\\n\", concatenar, \"\\n\", exp, \"\\n\", suma_Booleana)"
   ]
  },
  {
   "cell_type": "markdown",
   "metadata": {},
   "source": [
    "# Bucles, condicionales y funciones "
   ]
  },
  {
   "cell_type": "code",
   "execution_count": null,
   "metadata": {},
   "outputs": [],
   "source": [
    "## FOR \n",
    "## for variable i,j,k in range(inicio, alto, paso): \n",
    "## Hace algo \n",
    "\n",
    "if (var1 == 10):\n",
    "    print(\"el valor es 10\")\n",
    "\n",
    "for i in range(1,100, 1):\n",
    "    n = i + 1\n",
    "    print(n) "
   ]
  },
  {
   "cell_type": "code",
   "execution_count": null,
   "metadata": {},
   "outputs": [],
   "source": [
    "## Ejercicio retomado de cisco - skills for all, curso de fundamentos de python I\n",
    "# Un programa que lee una secuencia de números\n",
    "# y cuenta cuántos números son pares y cuántos son impares.\n",
    "# El programa termina cuando se ingresa un cero.\n",
    "\n",
    "## Impares\n",
    "odd_numbers = 0\n",
    "## pARE\n",
    "even_numbers = 0\n",
    "\n",
    "# Lee el primer número.\n",
    "number = int(input(\"Introduce un número o escribe 0 para detener: \"))\n",
    "\n",
    "# 0 termina la ejecución.\n",
    "while number != 0:\n",
    "    # Verificar si el número es impar.\n",
    "    if number % 2 == 1:\n",
    "        # Incrementar el contador de números impares odd_numbers.\n",
    "        odd_numbers += 1\n",
    "    else:\n",
    "        # Incrementar el contador de números pares even_numbers.\n",
    "        even_numbers += 1\n",
    "    # Leer el siguiente número.\n",
    "    number = int(input(\"Introduce un número o escribe 0 para detener: \"))\n",
    "\n",
    "# Imprimir resultados.\n",
    "print(\"Conteo de números impares:\", odd_numbers)\n",
    "print(\"Conteo de números pares:\", even_numbers)\n",
    "\n"
   ]
  },
  {
   "cell_type": "markdown",
   "metadata": {},
   "source": [
    "## Funciones"
   ]
  },
  {
   "cell_type": "code",
   "execution_count": 10,
   "metadata": {},
   "outputs": [],
   "source": [
    "\n",
    "# def NombreFuncion(Variables +1): \n",
    "# Funciones que va a realizar la funcion\n",
    "# return Valor que puede o no retornar\n",
    "\n",
    "\n",
    "# Sin utilizar return\n",
    "def message(): \n",
    "    print(\"Hola, ¿me llamaste?\")\n",
    "# Utilizando return \n",
    "def message(): \n",
    "    return print(\"Hola, ¿me llamaste?\")\n"
   ]
  },
  {
   "cell_type": "code",
   "execution_count": null,
   "metadata": {},
   "outputs": [],
   "source": [
    "\n",
    "\n",
    "message()"
   ]
  },
  {
   "cell_type": "code",
   "execution_count": null,
   "metadata": {},
   "outputs": [],
   "source": [
    "def contador(x): \n",
    "    for i in range(x):\n",
    "        n = i + 1\n",
    "        print(n)\n",
    "    return x \n",
    "        \n",
    "x = 10\n",
    "contador(x)"
   ]
  },
  {
   "cell_type": "code",
   "execution_count": null,
   "metadata": {},
   "outputs": [],
   "source": [
    "# You are given an integer array prices where prices[i] is the price of a given stock on the ith day.\n",
    "# On each day, you may decide to buy and/or sell the stock. You can only hold at most one share of the stock at any time. \n",
    "# However, you can buy it then immediately sell it on the same day. \n",
    "# Find and return the maximum profit you can achieve.\n",
    "\n",
    "\n",
    "### Inicializamos la función con def nombre_funcion(variables)\n",
    "def maxProfit(prices):  \n",
    "    # Inicializamos nuestras ganancias en 0 \n",
    "    profit = 0\n",
    "    # Inicializamos el ciclo for, este va a ir en un rango de i = 1 hasta el tamaño de la variable solicitada i = len(prices)\n",
    "    for i in range(1, len(prices)): \n",
    "        # Condicionale para identificar si la posición actual es mayor a la anterior\n",
    "        if (prices[i] > prices[i -1]):\n",
    "            # Se hace la venta en el caso de que sea el mayor \n",
    "            # el operador += indica incremento \n",
    "            # otra forma de escribirlo es profit = profit + (prices[i] - prices[i-1])   \n",
    "            profit += (prices[i] - prices[i-1])\n",
    "    # Return indica si va a devolver o no una variable\n",
    "    # En este caso devuelve las variable de ganancias/profit        \n",
    "    return profit\n",
    "prices = [7,5,4,3,2,1,10]\n",
    "maxProfit(prices)\n"
   ]
  },
  {
   "cell_type": "markdown",
   "metadata": {},
   "source": [
    "## Matrices y vectores"
   ]
  },
  {
   "cell_type": "code",
   "execution_count": null,
   "metadata": {},
   "outputs": [],
   "source": [
    "Vector = np.array([\"Hola\",\"amigos\",\"de micro\"])\n",
    "Matriz = np.array([[1,2,3],[5,6,7],[8,9,10]])\n",
    "tensor = np.array([[[1,2,3],[5,6,7],[8,9,10]],[[1,2,3],[5,6,7],[8,9,10]], [[1,2,3],[5,6,7],[8,9,10]]]) \n",
    "print(Vector, \"\\n\")\n",
    "print(\"-----------------------------------\")\n",
    "print(Matriz, \"\\n\")\n",
    "print(\"-----------------------------------\")\n",
    "print(tensor)"
   ]
  },
  {
   "cell_type": "markdown",
   "metadata": {},
   "source": [
    "### Operaciones con Numpy"
   ]
  },
  {
   "cell_type": "code",
   "execution_count": 62,
   "metadata": {},
   "outputs": [
    {
     "data": {
      "text/plain": [
       "array([[514, 744, 362, 761],\n",
       "       [654, 727, 949,  23],\n",
       "       [ 95, 861, 600, 351],\n",
       "       [310, 334, 665, 848]], dtype=int32)"
      ]
     },
     "execution_count": 62,
     "metadata": {},
     "output_type": "execute_result"
    }
   ],
   "source": [
    "# Crear un vector con valores \"aleatorios\"\n",
    "vector = np.random.randint(1, 1000, (4))\n",
    "vector\n",
    "# Matrices aleatorias \n",
    "matriz = np.random.randint(1, 1000, (4,4))\n",
    "matriz"
   ]
  },
  {
   "cell_type": "code",
   "execution_count": 79,
   "metadata": {},
   "outputs": [
    {
     "name": "stdout",
     "output_type": "stream",
     "text": [
      "[ 5 11 17  5] \n",
      "\n",
      "[10 17 13 12] \n",
      "\n",
      "suma = [15 28 30 17] \n",
      "\n",
      "resta  = [-5 -6  4 -7] \n",
      "\n",
      "mult = [ 50 187 221  60] \n",
      "\n",
      "exp = [   9765625  -92658101 1196240593  244140625] \n",
      "\n",
      "promedio = 9.5 \n",
      "\n",
      "var = 24.75 \n",
      "\n",
      "mediana = 8.0 \n",
      "\n"
     ]
    }
   ],
   "source": [
    "vector1 = np.random.randint(1, 20, (4))\n",
    "print(vector1, \"\\n\")\n",
    "vector2 = np.random.randint(1, 20, (4))\n",
    "print(vector2, \"\\n\")\n",
    "\n",
    "print(\"suma =\", vector1 + vector2, \"\\n\")\n",
    "print(\"resta  =\", vector1 - vector2, \"\\n\")\n",
    "print(\"mult =\", vector1 * vector2, \"\\n\")\n",
    "print(\"exp =\", vector1 ** vector2, \"\\n\")\n",
    "print(\"promedio =\",np.mean(vector1), \"\\n\")\n",
    "print(\"var =\", np.var(vector1), \"\\n\")\n",
    "print(\"mediana =\", np.median(vector1), \"\\n\")\n",
    "\n",
    "\n"
   ]
  },
  {
   "cell_type": "code",
   "execution_count": 97,
   "metadata": {},
   "outputs": [
    {
     "name": "stdout",
     "output_type": "stream",
     "text": [
      "[[12 11  8  5]\n",
      " [17 16  2  5]\n",
      " [12  4  4 11]\n",
      " [ 4 17  2 10]] \n",
      "\n",
      "[[12  6 16  3]\n",
      " [ 8  4  9  3]\n",
      " [ 3  9 19  3]\n",
      " [ 3 14 17 11]] \n",
      "\n",
      "suma = [15 28 30 17] \n",
      "\n",
      "resta  = [-5 -6  4 -7] \n",
      "\n",
      "mult = [ 50 187 221  60] \n",
      "\n",
      "exp = [   9765625  -92658101 1196240593  244140625] \n",
      "\n",
      "promedio = 9.5 \n",
      "\n",
      "var = 24.75 \n",
      "\n",
      "mediana = 8.0 \n",
      "\n"
     ]
    },
    {
     "data": {
      "text/plain": [
       "'\\nprint(\"----------------------\")\\n#seleccion de filas\\nprint(matriz1[:,0], \"\\n\")\\n# Seleccion de columnas\\nprint(matriz1[0,:], \"\\n\")\\n'"
      ]
     },
     "execution_count": 97,
     "metadata": {},
     "output_type": "execute_result"
    }
   ],
   "source": [
    "\n",
    "matriz1 = np.random.randint(1, 20, (4,4))\n",
    "print(matriz1, \"\\n\")\n",
    "matriz2 = np.random.randint(1, 20, (4,4))\n",
    "print(matriz2, \"\\n\") \n",
    "\n",
    "print(\"suma =\", vector1 + vector2, \"\\n\")\n",
    "print(\"resta  =\", vector1 - vector2, \"\\n\")\n",
    "print(\"mult =\", vector1 * vector2, \"\\n\")\n",
    "print(\"exp =\", vector1 ** vector2, \"\\n\")\n",
    "print(\"promedio =\",np.mean(vector1), \"\\n\")\n",
    "print(\"var =\", np.var(vector1), \"\\n\")\n",
    "print(\"mediana =\", np.median(vector1), \"\\n\")\n",
    "\n",
    "\n",
    "\n",
    "#print(\"----------------------\")\n",
    "#seleccion de filas\n",
    "#print(matriz1[:,0], \"\\n\")\n",
    "# Seleccion de columnas\n",
    "#print(matriz1[0,:], \"\\n\")\n"
   ]
  },
  {
   "cell_type": "code",
   "execution_count": null,
   "metadata": {},
   "outputs": [],
   "source": [
    "vacio = [[],[],[]]\n",
    "a = [[12,3,8],[89,2,5],[7,8,6]]\n",
    "b = [[12,3,8],[89,2,5],[7,8,6]]\n",
    "print (a + b)"
   ]
  },
  {
   "cell_type": "code",
   "execution_count": null,
   "metadata": {},
   "outputs": [],
   "source": [
    "\n",
    "a = np.array([[12,3,8],[89,2,5],[7,8,6]])\n",
    "b = np.array([[12,3,8],[89,2,5],[7,8,6]])\n",
    "print (a + b)"
   ]
  },
  {
   "cell_type": "markdown",
   "metadata": {},
   "source": [
    "### Atributos de un array \n",
    "- ndim\n",
    "- shape\n",
    "- size \n",
    "- dtype"
   ]
  },
  {
   "cell_type": "code",
   "execution_count": null,
   "metadata": {},
   "outputs": [],
   "source": [
    "## ndim \n",
    "\n",
    "print(Vector.ndim)\n",
    "print(Matriz.ndim)\n",
    "print(tensor.ndim)"
   ]
  },
  {
   "cell_type": "code",
   "execution_count": null,
   "metadata": {},
   "outputs": [],
   "source": [
    "# shape\n",
    "\n",
    "print(Vector.shape)\n",
    "print(Matriz.shape)\n",
    "print(tensor.shape)"
   ]
  },
  {
   "cell_type": "code",
   "execution_count": null,
   "metadata": {},
   "outputs": [],
   "source": [
    "# Size \n",
    "print(Vector.size)\n",
    "print(Matriz.size)\n",
    "print(tensor.size)"
   ]
  },
  {
   "cell_type": "code",
   "execution_count": null,
   "metadata": {},
   "outputs": [],
   "source": [
    "# dtype \n",
    "\n",
    "print(Vector.dtype)\n",
    "print(Matriz.dtype)\n",
    "print(tensor.dtype)"
   ]
  },
  {
   "cell_type": "code",
   "execution_count": null,
   "metadata": {},
   "outputs": [],
   "source": [
    "## Concatenacion de matrices \n",
    "a = np.array(['hola','mundo'])\n",
    "b = np.array(['padiuxhi', 'guidxiyu'])\n",
    "print(a+b)\n",
    "# print(a+c)"
   ]
  },
  {
   "cell_type": "code",
   "execution_count": null,
   "metadata": {},
   "outputs": [],
   "source": [
    "print(np.dot(b,a)) #Producto de matrices"
   ]
  }
 ],
 "metadata": {
  "kernelspec": {
   "display_name": "Python 3",
   "language": "python",
   "name": "python3"
  },
  "language_info": {
   "codemirror_mode": {
    "name": "ipython",
    "version": 3
   },
   "file_extension": ".py",
   "mimetype": "text/x-python",
   "name": "python",
   "nbconvert_exporter": "python",
   "pygments_lexer": "ipython3",
   "version": "3.9.13"
  },
  "orig_nbformat": 4,
  "vscode": {
   "interpreter": {
    "hash": "d73e1b32243897a9a2d309f53635f299b27651e305eeebfbb668dc739aac167f"
   }
  }
 },
 "nbformat": 4,
 "nbformat_minor": 2
}
