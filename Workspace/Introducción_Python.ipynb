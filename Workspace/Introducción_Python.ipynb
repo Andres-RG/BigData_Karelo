{
 "cells": [
  {
   "cell_type": "markdown",
   "metadata": {},
   "source": [
    "## Crear entorno de Python"
   ]
  },
  {
   "cell_type": "markdown",
   "metadata": {},
   "source": [
    "\n",
    "Descargar Python: \n",
    "https://www.python.org/\n",
    "\n",
    "Dirigirse al área/Dirección de trabajo  \n",
    "\n",
    "Crer Entorno: python -m venv Nombre_Entorno\n",
    "\n",
    "\n",
    "Ejecutar entorno en terminal: \n",
    "- En Windows, ejecuta: Nombre_Entorno\\Scripts\\activate\n",
    "- En Unix o MacOS, ejecuta: source Nombre_Entorno/bin/activate\n",
    "\n",
    "Para salir utiliza el comando deativate\n",
    "\n",
    "----------------------------------------------------------------------------------------------------\n",
    "\n"
   ]
  },
  {
   "cell_type": "markdown",
   "metadata": {},
   "source": [
    "## Importar librerias "
   ]
  },
  {
   "cell_type": "code",
   "execution_count": 2,
   "metadata": {},
   "outputs": [],
   "source": [
    "import numpy as np\n"
   ]
  },
  {
   "cell_type": "markdown",
   "metadata": {},
   "source": [
    "Asignación de variables"
   ]
  },
  {
   "cell_type": "code",
   "execution_count": 3,
   "metadata": {},
   "outputs": [
    {
     "name": "stdout",
     "output_type": "stream",
     "text": [
      "10 10.1 10\n",
      "<class 'int'> <class 'float'> <class 'str'> <class 'bool'>\n"
     ]
    }
   ],
   "source": [
    "# Númericas\n",
    "var1 = 10\n",
    "var2 = 10.10 \n",
    "var3 = \"10\"\n",
    "var4 = True\n",
    "#####################\n",
    "print(var1, var2, var3)\n",
    "\n",
    "print(type(var1), type(var2), type(var3), type(var4))"
   ]
  },
  {
   "cell_type": "markdown",
   "metadata": {},
   "source": [
    "# Bucles, condicionales y funciones "
   ]
  },
  {
   "cell_type": "code",
   "execution_count": 69,
   "metadata": {},
   "outputs": [
    {
     "name": "stdout",
     "output_type": "stream",
     "text": [
      "Conteo de números impares: 4\n",
      "Conteo de números pares: 1\n"
     ]
    }
   ],
   "source": [
    "## Ejercicio retomado de cisco - skills for all, curso de fundamentos de python I\n",
    "# Un programa que lee una secuencia de números\n",
    "# y cuenta cuántos números son pares y cuántos son impares.\n",
    "# El programa termina cuando se ingresa un cero.\n",
    "\n",
    "## Impares\n",
    "odd_numbers = 0\n",
    "## pARE\n",
    "even_numbers = 0\n",
    "\n",
    "# Lee el primer número.\n",
    "number = int(input(\"Introduce un número o escribe 0 para detener: \"))\n",
    "\n",
    "# 0 termina la ejecución.\n",
    "while number != 0:\n",
    "    # Verificar si el número es impar.\n",
    "    if number % 2 == 1:\n",
    "        # Incrementar el contador de números impares odd_numbers.\n",
    "        odd_numbers += 1\n",
    "    else:\n",
    "        # Incrementar el contador de números pares even_numbers.\n",
    "        even_numbers += 1\n",
    "    # Leer el siguiente número.\n",
    "    number = int(input(\"Introduce un número o escribe 0 para detener: \"))\n",
    "\n",
    "# Imprimir resultados.\n",
    "print(\"Conteo de números impares:\", odd_numbers)\n",
    "print(\"Conteo de números pares:\", even_numbers)\n",
    "\n"
   ]
  },
  {
   "cell_type": "code",
   "execution_count": 30,
   "metadata": {},
   "outputs": [
    {
     "name": "stdout",
     "output_type": "stream",
     "text": [
      "1\n",
      "2\n",
      "3\n",
      "4\n",
      "5\n",
      "6\n",
      "7\n",
      "8\n",
      "9\n",
      "1 \n",
      "\n",
      "1\n",
      "2\n",
      "3\n",
      "4\n",
      "5\n",
      "6\n",
      "7\n",
      "8\n",
      "9\n",
      "2 \n",
      "\n",
      "1\n",
      "2\n",
      "3\n",
      "4\n",
      "5\n",
      "6\n",
      "7\n",
      "8\n",
      "9\n",
      "3 \n",
      "\n",
      "1\n",
      "2\n",
      "3\n",
      "4\n",
      "5\n",
      "6\n",
      "7\n",
      "8\n",
      "9\n",
      "4 \n",
      "\n",
      "1\n",
      "2\n",
      "3\n",
      "4\n",
      "5\n",
      "6\n",
      "7\n",
      "8\n",
      "9\n",
      "5 \n",
      "\n",
      "1\n",
      "2\n",
      "3\n",
      "4\n",
      "5\n",
      "6\n",
      "7\n",
      "8\n",
      "9\n",
      "6 \n",
      "\n",
      "1\n",
      "2\n",
      "3\n",
      "4\n",
      "5\n",
      "6\n",
      "7\n",
      "8\n",
      "9\n",
      "7 \n",
      "\n",
      "1\n",
      "2\n",
      "3\n",
      "4\n",
      "5\n",
      "6\n",
      "7\n",
      "8\n",
      "9\n",
      "8 \n",
      "\n",
      "1\n",
      "2\n",
      "3\n",
      "4\n",
      "5\n",
      "6\n",
      "7\n",
      "8\n",
      "9\n",
      "9 \n",
      "\n"
     ]
    }
   ],
   "source": [
    "# You are given an integer array prices where prices[i] is the price of a given stock on the ith day.\n",
    "# On each day, you may decide to buy and/or sell the stock. You can only hold at most one share of the stock at any time. \n",
    "# However, you can buy it then immediately sell it on the same day. \n",
    "# Find and return the maximum profit you can achieve.\n",
    "\n",
    "\n",
    "### Inicializamos la función con def nombre_funcion(variables)\n",
    "def maxProfit(prices):  \n",
    "    # Inicializamos nuestras ganancias en 0 \n",
    "    profit = 0\n",
    "    # Inicializamos el ciclo for, este va a ir en un rango de i = 1 hasta el tamaño de la variable solicitada i = len(prices)\n",
    "    for i in range(1, len(prices)): \n",
    "        # Condicionale para identificar si la posición actual es mayor a la anterior\n",
    "        if (prices[i] > prices[i -1]):\n",
    "            # Se hace la venta en el caso de que sea el mayor \n",
    "            # el operador += indica incremento \n",
    "            # otra forma de escribirlo es profit = profit + (prices[i] - prices[i-1])   \n",
    "            profit += (prices[i] - prices[i-1])\n",
    "    # Return indica si va a devolver o no una variable\n",
    "    # En este caso devuelve las variable de ganancias/profit        \n",
    "    return profit\n",
    "prices = [7,5,4,3,2,1,10]\n",
    "maxProfit(prices)\n"
   ]
  },
  {
   "cell_type": "markdown",
   "metadata": {},
   "source": [
    "## Matrices y vectores"
   ]
  },
  {
   "cell_type": "code",
   "execution_count": null,
   "metadata": {},
   "outputs": [],
   "source": [
    "Vector = np.array([\"Hola\",\"amigos\",\"de micro\"])\n",
    "Matriz = np.array([[1,2,3],[5,6,7],[8,9,10]])\n",
    "tensor = np.array([[[1,2,3],[5,6,7],[8,9,10]],[[1,2,3],[5,6,7],[8,9,10]], [[1,2,3],[5,6,7],[8,9,10]]]) \n",
    "print(Vector, \"\\n\")\n",
    "print(\"-----------------------------------\")\n",
    "print(Matriz, \"\\n\")\n",
    "print(\"-----------------------------------\")\n",
    "print(tensor)"
   ]
  },
  {
   "cell_type": "code",
   "execution_count": 65,
   "metadata": {},
   "outputs": [
    {
     "name": "stdout",
     "output_type": "stream",
     "text": [
      "[[12, 3, 8], [89, 2, 5], [7, 8, 6], [12, 3, 8], [89, 2, 5], [7, 8, 6]] [[]]\n"
     ]
    }
   ],
   "source": [
    "vacio = [[]]\n",
    "a = [[12,3,8],[89,2,5],[7,8,6]]\n",
    "b = [[12,3,8],[89,2,5],[7,8,6]]\n",
    "print (a+b, vacio)"
   ]
  },
  {
   "cell_type": "code",
   "execution_count": 3,
   "metadata": {},
   "outputs": [
    {
     "name": "stdout",
     "output_type": "stream",
     "text": [
      "[[ 24   6  16]\n",
      " [178   4  10]\n",
      " [ 14  16  12]]\n"
     ]
    }
   ],
   "source": [
    "\n",
    "a = np.array([[12,3,8],[89,2,5],[7,8,6]])\n",
    "b = np.array([[12,3,8],[89,2,5],[7,8,6]])\n",
    "print (a+b)"
   ]
  },
  {
   "cell_type": "markdown",
   "metadata": {},
   "source": [
    "### Atributos de un array \n",
    "- ndim\n",
    "- shape\n",
    "- size \n",
    "- dtype"
   ]
  },
  {
   "cell_type": "code",
   "execution_count": 47,
   "metadata": {},
   "outputs": [
    {
     "name": "stdout",
     "output_type": "stream",
     "text": [
      "1\n",
      "2\n",
      "3\n"
     ]
    }
   ],
   "source": [
    "## ndim \n",
    "\n",
    "print(Vector.ndim)\n",
    "print(Matriz.ndim)\n",
    "print(tensor.ndim)"
   ]
  },
  {
   "cell_type": "code",
   "execution_count": 48,
   "metadata": {},
   "outputs": [
    {
     "name": "stdout",
     "output_type": "stream",
     "text": [
      "(3,)\n",
      "(3, 3)\n",
      "(3, 3, 3)\n"
     ]
    }
   ],
   "source": [
    "# shape\n",
    "\n",
    "print(Vector.shape)\n",
    "print(Matriz.shape)\n",
    "print(tensor.shape)"
   ]
  },
  {
   "cell_type": "code",
   "execution_count": 49,
   "metadata": {},
   "outputs": [
    {
     "name": "stdout",
     "output_type": "stream",
     "text": [
      "3\n",
      "9\n",
      "27\n"
     ]
    }
   ],
   "source": [
    "# Size \n",
    "print(Vector.size)\n",
    "print(Matriz.size)\n",
    "print(tensor.size)"
   ]
  },
  {
   "cell_type": "code",
   "execution_count": 50,
   "metadata": {},
   "outputs": [
    {
     "name": "stdout",
     "output_type": "stream",
     "text": [
      "<U8\n",
      "int64\n",
      "int64\n"
     ]
    }
   ],
   "source": [
    "# dtype \n",
    "\n",
    "print(Vector.dtype)\n",
    "print(Matriz.dtype)\n",
    "print(tensor.dtype)"
   ]
  },
  {
   "cell_type": "markdown",
   "metadata": {},
   "source": [
    "Operaciones matriciales: \n",
    "    - Producto interno \n",
    "    - Conocer dimensiones\n",
    "    "
   ]
  },
  {
   "cell_type": "code",
   "execution_count": 20,
   "metadata": {},
   "outputs": [
    {
     "name": "stdout",
     "output_type": "stream",
     "text": [
      "['holapadiuxhi' 'mundoguidxiyu']\n"
     ]
    }
   ],
   "source": [
    "a = np.array(['hola','mundo'])\n",
    "b = np.array(['padiuxhi', 'guidxiyu'])\n",
    "print(a+b)\n",
    "# print(a+c)"
   ]
  },
  {
   "attachments": {},
   "cell_type": "markdown",
   "metadata": {},
   "source": [
    "Operaciones matriciales: \n",
    "    - Producto interno \n",
    "    - Conocer dimensiones\n",
    "    - \n",
    "\n"
   ]
  },
  {
   "cell_type": "code",
   "execution_count": 68,
   "metadata": {},
   "outputs": [
    {
     "name": "stdout",
     "output_type": "stream",
     "text": [
      "[[ 25  60  62]\n",
      " [182 520 604]\n",
      " [ 14  10   2]]\n"
     ]
    }
   ],
   "source": [
    "print(np.dot(b,a)) #Producto de matrices"
   ]
  }
 ],
 "metadata": {
  "kernelspec": {
   "display_name": "Python 3",
   "language": "python",
   "name": "python3"
  },
  "language_info": {
   "codemirror_mode": {
    "name": "ipython",
    "version": 3
   },
   "file_extension": ".py",
   "mimetype": "text/x-python",
   "name": "python",
   "nbconvert_exporter": "python",
   "pygments_lexer": "ipython3",
   "version": "3.10.12"
  },
  "orig_nbformat": 4,
  "vscode": {
   "interpreter": {
    "hash": "d73e1b32243897a9a2d309f53635f299b27651e305eeebfbb668dc739aac167f"
   }
  }
 },
 "nbformat": 4,
 "nbformat_minor": 2
}
