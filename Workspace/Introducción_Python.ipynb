{
 "cells": [
  {
   "cell_type": "markdown",
   "metadata": {},
   "source": [
    "## Crear entorno de Python"
   ]
  },
  {
   "cell_type": "markdown",
   "metadata": {},
   "source": [
    "\n",
    "Descargar Python: \n",
    "https://www.python.org/\n",
    "\n",
    "Dirigirse al área/Dirección de trabajo  \n",
    "\n",
    "Crer Entorno: python -m venv Nombre_Entorno\n",
    "\n",
    "\n",
    "Ejecutar entorno en terminal: \n",
    "- En Windows, ejecuta: Nombre_Entorno\\Scripts\\activate\n",
    "- En Unix o MacOS, ejecuta: source Nombre_Entorno/bin/activate\n",
    "\n",
    "Para salir utiliza el comando deativate\n",
    "\n",
    "----------------------------------------------------------------------------------------------------\n",
    "\n"
   ]
  },
  {
   "cell_type": "markdown",
   "metadata": {},
   "source": [
    "## Importar librerias "
   ]
  },
  {
   "cell_type": "code",
   "execution_count": 37,
   "metadata": {},
   "outputs": [],
   "source": [
    "import numpy as np\n",
    "import pandas as pd"
   ]
  },
  {
   "cell_type": "markdown",
   "metadata": {},
   "source": [
    "Asignación de variables"
   ]
  },
  {
   "cell_type": "code",
   "execution_count": null,
   "metadata": {},
   "outputs": [],
   "source": [
    "# Númericas\n",
    "var1 = 10\n",
    "var2 = 10.10 \n",
    "var3 = \"10\"\n",
    "var4 = True\n",
    "#####################\n",
    "print(var1, var2, var3)\n",
    "\n",
    "print(type(var1), type(var2), type(var3), type(var4))"
   ]
  },
  {
   "cell_type": "markdown",
   "metadata": {},
   "source": [
    "# Bucles, condicionales y funciones "
   ]
  },
  {
   "cell_type": "code",
   "execution_count": 41,
   "metadata": {},
   "outputs": [
    {
     "name": "stdout",
     "output_type": "stream",
     "text": [
      "2\n",
      "3\n",
      "4\n",
      "5\n",
      "6\n",
      "7\n",
      "8\n",
      "9\n",
      "10\n",
      "11\n",
      "12\n",
      "13\n",
      "14\n",
      "15\n",
      "16\n",
      "17\n",
      "18\n",
      "19\n",
      "20\n",
      "21\n",
      "22\n",
      "23\n",
      "24\n",
      "25\n",
      "26\n",
      "27\n",
      "28\n",
      "29\n",
      "30\n",
      "31\n",
      "32\n",
      "33\n",
      "34\n",
      "35\n",
      "36\n",
      "37\n",
      "38\n",
      "39\n",
      "40\n",
      "41\n",
      "42\n",
      "43\n",
      "44\n",
      "45\n",
      "46\n",
      "47\n",
      "48\n",
      "49\n",
      "50\n",
      "51\n",
      "52\n",
      "53\n",
      "54\n",
      "55\n",
      "56\n",
      "57\n",
      "58\n",
      "59\n",
      "60\n",
      "61\n",
      "62\n",
      "63\n",
      "64\n",
      "65\n",
      "66\n",
      "67\n",
      "68\n",
      "69\n",
      "70\n",
      "71\n",
      "72\n",
      "73\n",
      "74\n",
      "75\n",
      "76\n",
      "77\n",
      "78\n",
      "79\n",
      "80\n",
      "81\n",
      "82\n",
      "83\n",
      "84\n",
      "85\n",
      "86\n",
      "87\n",
      "88\n",
      "89\n",
      "90\n",
      "91\n",
      "92\n",
      "93\n",
      "94\n",
      "95\n",
      "96\n",
      "97\n",
      "98\n",
      "99\n",
      "100\n"
     ]
    }
   ],
   "source": [
    "## FOR \n",
    "## for variable i,j,k in range(inicio, alto, paso): \n",
    "## Hace algo \n",
    "\n",
    "for i in range(1,100, 1):\n",
    "    n = i + 1\n",
    "    print(n) "
   ]
  },
  {
   "cell_type": "code",
   "execution_count": null,
   "metadata": {},
   "outputs": [],
   "source": [
    "## Ejercicio retomado de cisco - skills for all, curso de fundamentos de python I\n",
    "# Un programa que lee una secuencia de números\n",
    "# y cuenta cuántos números son pares y cuántos son impares.\n",
    "# El programa termina cuando se ingresa un cero.\n",
    "\n",
    "## Impares\n",
    "odd_numbers = 0\n",
    "## pARE\n",
    "even_numbers = 0\n",
    "\n",
    "# Lee el primer número.\n",
    "number = int(input(\"Introduce un número o escribe 0 para detener: \"))\n",
    "\n",
    "# 0 termina la ejecución.\n",
    "while number != 0:\n",
    "    # Verificar si el número es impar.\n",
    "    if number % 2 == 1:\n",
    "        # Incrementar el contador de números impares odd_numbers.\n",
    "        odd_numbers += 1\n",
    "    else:\n",
    "        # Incrementar el contador de números pares even_numbers.\n",
    "        even_numbers += 1\n",
    "    # Leer el siguiente número.\n",
    "    number = int(input(\"Introduce un número o escribe 0 para detener: \"))\n",
    "\n",
    "# Imprimir resultados.\n",
    "print(\"Conteo de números impares:\", odd_numbers)\n",
    "print(\"Conteo de números pares:\", even_numbers)\n",
    "\n"
   ]
  },
  {
   "cell_type": "markdown",
   "metadata": {},
   "source": [
    "## Funciones"
   ]
  },
  {
   "cell_type": "code",
   "execution_count": 2,
   "metadata": {},
   "outputs": [],
   "source": [
    "\n",
    "# def NombreFuncion(Variables +1): \n",
    "# Funciones que va a realizar la funcion\n",
    "# return Valor que puede o no retornar\n",
    "\n",
    "\n",
    "# Sin utilizar return\n",
    "def message(): \n",
    "    print(\"Hola, ¿me llamaste?\")\n",
    "# Utilizando return \n",
    "def message(): \n",
    "    return print(\"Hola, ¿me llamaste?\")\n"
   ]
  },
  {
   "cell_type": "code",
   "execution_count": null,
   "metadata": {},
   "outputs": [],
   "source": [
    "def contador(x): \n",
    "    for i in range(x):\n",
    "        n = i + 1\n",
    "        print(n)\n",
    "    return x \n",
    "        \n",
    "x = 10\n",
    "contador(x)"
   ]
  },
  {
   "cell_type": "code",
   "execution_count": null,
   "metadata": {},
   "outputs": [],
   "source": [
    "# You are given an integer array prices where prices[i] is the price of a given stock on the ith day.\n",
    "# On each day, you may decide to buy and/or sell the stock. You can only hold at most one share of the stock at any time. \n",
    "# However, you can buy it then immediately sell it on the same day. \n",
    "# Find and return the maximum profit you can achieve.\n",
    "\n",
    "\n",
    "### Inicializamos la función con def nombre_funcion(variables)\n",
    "def maxProfit(prices):  \n",
    "    # Inicializamos nuestras ganancias en 0 \n",
    "    profit = 0\n",
    "    # Inicializamos el ciclo for, este va a ir en un rango de i = 1 hasta el tamaño de la variable solicitada i = len(prices)\n",
    "    for i in range(1, len(prices)): \n",
    "        # Condicionale para identificar si la posición actual es mayor a la anterior\n",
    "        if (prices[i] > prices[i -1]):\n",
    "            # Se hace la venta en el caso de que sea el mayor \n",
    "            # el operador += indica incremento \n",
    "            # otra forma de escribirlo es profit = profit + (prices[i] - prices[i-1])   \n",
    "            profit += (prices[i] - prices[i-1])\n",
    "    # Return indica si va a devolver o no una variable\n",
    "    # En este caso devuelve las variable de ganancias/profit        \n",
    "    return profit\n",
    "prices = [7,5,4,3,2,1,10]\n",
    "maxProfit(prices)\n"
   ]
  },
  {
   "cell_type": "markdown",
   "metadata": {},
   "source": [
    "## Matrices y vectores"
   ]
  },
  {
   "cell_type": "code",
   "execution_count": 38,
   "metadata": {},
   "outputs": [
    {
     "name": "stdout",
     "output_type": "stream",
     "text": [
      "['Hola' 'amigos' 'de micro'] \n",
      "\n",
      "-----------------------------------\n",
      "[[ 1  2  3]\n",
      " [ 5  6  7]\n",
      " [ 8  9 10]] \n",
      "\n",
      "-----------------------------------\n",
      "[[[ 1  2  3]\n",
      "  [ 5  6  7]\n",
      "  [ 8  9 10]]\n",
      "\n",
      " [[ 1  2  3]\n",
      "  [ 5  6  7]\n",
      "  [ 8  9 10]]\n",
      "\n",
      " [[ 1  2  3]\n",
      "  [ 5  6  7]\n",
      "  [ 8  9 10]]]\n"
     ]
    }
   ],
   "source": [
    "Vector = np.array([\"Hola\",\"amigos\",\"de micro\"])\n",
    "Matriz = np.array([[1,2,3],[5,6,7],[8,9,10]])\n",
    "tensor = np.array([[[1,2,3],[5,6,7],[8,9,10]],[[1,2,3],[5,6,7],[8,9,10]], [[1,2,3],[5,6,7],[8,9,10]]]) \n",
    "print(Vector, \"\\n\")\n",
    "print(\"-----------------------------------\")\n",
    "print(Matriz, \"\\n\")\n",
    "print(\"-----------------------------------\")\n",
    "print(tensor)"
   ]
  },
  {
   "cell_type": "code",
   "execution_count": 39,
   "metadata": {},
   "outputs": [
    {
     "name": "stdout",
     "output_type": "stream",
     "text": [
      "[[12, 3, 8], [89, 2, 5], [7, 8, 6], [12, 3, 8], [89, 2, 5], [7, 8, 6]] [[]]\n"
     ]
    }
   ],
   "source": [
    "vacio = [[]]\n",
    "a = [[12,3,8],[89,2,5],[7,8,6]]\n",
    "b = [[12,3,8],[89,2,5],[7,8,6]]\n",
    "print (a+b, vacio)"
   ]
  },
  {
   "cell_type": "code",
   "execution_count": null,
   "metadata": {},
   "outputs": [],
   "source": [
    "\n",
    "a = np.array([[12,3,8],[89,2,5],[7,8,6]])\n",
    "b = np.array([[12,3,8],[89,2,5],[7,8,6]])\n",
    "print (a+b)"
   ]
  },
  {
   "cell_type": "markdown",
   "metadata": {},
   "source": [
    "### Atributos de un array \n",
    "- ndim\n",
    "- shape\n",
    "- size \n",
    "- dtype"
   ]
  },
  {
   "cell_type": "code",
   "execution_count": null,
   "metadata": {},
   "outputs": [],
   "source": [
    "## ndim \n",
    "\n",
    "print(Vector.ndim)\n",
    "print(Matriz.ndim)\n",
    "print(tensor.ndim)"
   ]
  },
  {
   "cell_type": "code",
   "execution_count": null,
   "metadata": {},
   "outputs": [],
   "source": [
    "# shape\n",
    "\n",
    "print(Vector.shape)\n",
    "print(Matriz.shape)\n",
    "print(tensor.shape)"
   ]
  },
  {
   "cell_type": "code",
   "execution_count": null,
   "metadata": {},
   "outputs": [],
   "source": [
    "# Size \n",
    "print(Vector.size)\n",
    "print(Matriz.size)\n",
    "print(tensor.size)"
   ]
  },
  {
   "cell_type": "code",
   "execution_count": null,
   "metadata": {},
   "outputs": [],
   "source": [
    "# dtype \n",
    "\n",
    "print(Vector.dtype)\n",
    "print(Matriz.dtype)\n",
    "print(tensor.dtype)"
   ]
  },
  {
   "cell_type": "markdown",
   "metadata": {},
   "source": [
    "Operaciones matriciales: \n",
    "    - Producto interno \n",
    "    - Conocer dimensiones\n",
    "    "
   ]
  },
  {
   "cell_type": "code",
   "execution_count": null,
   "metadata": {},
   "outputs": [],
   "source": [
    "a = np.array(['hola','mundo'])\n",
    "b = np.array(['padiuxhi', 'guidxiyu'])\n",
    "print(a+b)\n",
    "# print(a+c)"
   ]
  },
  {
   "attachments": {},
   "cell_type": "markdown",
   "metadata": {},
   "source": [
    "Operaciones matriciales: \n",
    "    - Producto interno \n",
    "    - Conocer dimensiones\n",
    "    - \n",
    "\n"
   ]
  },
  {
   "cell_type": "code",
   "execution_count": null,
   "metadata": {},
   "outputs": [],
   "source": [
    "print(np.dot(b,a)) #Producto de matrices"
   ]
  }
 ],
 "metadata": {
  "kernelspec": {
   "display_name": "Python 3",
   "language": "python",
   "name": "python3"
  },
  "language_info": {
   "codemirror_mode": {
    "name": "ipython",
    "version": 3
   },
   "file_extension": ".py",
   "mimetype": "text/x-python",
   "name": "python",
   "nbconvert_exporter": "python",
   "pygments_lexer": "ipython3",
   "version": "3.10.12"
  },
  "orig_nbformat": 4,
  "vscode": {
   "interpreter": {
    "hash": "d73e1b32243897a9a2d309f53635f299b27651e305eeebfbb668dc739aac167f"
   }
  }
 },
 "nbformat": 4,
 "nbformat_minor": 2
}
